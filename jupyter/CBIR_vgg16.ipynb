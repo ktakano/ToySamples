{
 "cells": [
  {
   "cell_type": "markdown",
   "metadata": {},
   "source": [
    "# ディープラーニングを適用した画像検索システム (demo)\n",
    "\n",
    "学習済ニューラルネットワークVGG16を用いて，画像の特徴ベクトルを生成します．\n",
    "生成した画像の特徴ベクトルを用いて画像検索を行います．"
   ]
  },
  {
   "cell_type": "markdown",
   "metadata": {},
   "source": [
    "# 1. 画像の読み込み\n",
    "C\n",
    "altech 256の画像データセットから、約30,000枚の画像を読み込みます。"
   ]
  },
  {
   "cell_type": "code",
   "execution_count": 7,
   "metadata": {},
   "outputs": [],
   "source": [
    "import os\n",
    " \n",
    "path = 'D:\\\\dataset\\\\demo\\\\256_ObjectCategories'\n",
    " \n",
    "filelist = []\n",
    "    \n",
    "for d in os.listdir(path):\n",
    "    if os.path.isdir(os.path.join(path, d)):\n",
    "        subpath = os.path.join(path, d)\n",
    "        for imgf in os.listdir(subpath):\n",
    "            if os.path.isfile(os.path.join(subpath, imgf)):\n",
    "                filelist.append(imgf)\n",
    " \n"
   ]
  },
  {
   "cell_type": "code",
   "execution_count": null,
   "metadata": {},
   "outputs": [],
   "source": [
    "print(filelist)"
   ]
  },
  {
   "cell_type": "markdown",
   "metadata": {},
   "source": [
    "# 2. 学習済の画像認識ニューラルネットワークの準備\n",
    "\n",
    "学習済の画像認識ニューラルネットワークとしてVGG16を準備します。"
   ]
  },
  {
   "cell_type": "code",
   "execution_count": 2,
   "metadata": {},
   "outputs": [
    {
     "name": "stderr",
     "output_type": "stream",
     "text": [
      "Using TensorFlow backend.\n"
     ]
    }
   ],
   "source": [
    "from keras.applications.vgg16 import VGG16\n",
    "from keras.preprocessing import image\n",
    "from keras.applications.vgg16 import preprocess_input\n",
    "from keras.models import Model\n",
    "import numpy as np\n",
    "\n",
    "# model = VGG16(weights='imagenet', include_top=True)\n",
    "base_model = VGG16(weights='imagenet', include_top=True)\n",
    "model = Model(inputs=base_model.input, outputs=base_model.get_layer('fc1').output)\n"
   ]
  },
  {
   "cell_type": "code",
   "execution_count": 3,
   "metadata": {},
   "outputs": [
    {
     "name": "stdout",
     "output_type": "stream",
     "text": [
      "Model: \"vgg16\"\n",
      "_________________________________________________________________\n",
      "Layer (type)                 Output Shape              Param #   \n",
      "=================================================================\n",
      "input_1 (InputLayer)         (None, 224, 224, 3)       0         \n",
      "_________________________________________________________________\n",
      "block1_conv1 (Conv2D)        (None, 224, 224, 64)      1792      \n",
      "_________________________________________________________________\n",
      "block1_conv2 (Conv2D)        (None, 224, 224, 64)      36928     \n",
      "_________________________________________________________________\n",
      "block1_pool (MaxPooling2D)   (None, 112, 112, 64)      0         \n",
      "_________________________________________________________________\n",
      "block2_conv1 (Conv2D)        (None, 112, 112, 128)     73856     \n",
      "_________________________________________________________________\n",
      "block2_conv2 (Conv2D)        (None, 112, 112, 128)     147584    \n",
      "_________________________________________________________________\n",
      "block2_pool (MaxPooling2D)   (None, 56, 56, 128)       0         \n",
      "_________________________________________________________________\n",
      "block3_conv1 (Conv2D)        (None, 56, 56, 256)       295168    \n",
      "_________________________________________________________________\n",
      "block3_conv2 (Conv2D)        (None, 56, 56, 256)       590080    \n",
      "_________________________________________________________________\n",
      "block3_conv3 (Conv2D)        (None, 56, 56, 256)       590080    \n",
      "_________________________________________________________________\n",
      "block3_pool (MaxPooling2D)   (None, 28, 28, 256)       0         \n",
      "_________________________________________________________________\n",
      "block4_conv1 (Conv2D)        (None, 28, 28, 512)       1180160   \n",
      "_________________________________________________________________\n",
      "block4_conv2 (Conv2D)        (None, 28, 28, 512)       2359808   \n",
      "_________________________________________________________________\n",
      "block4_conv3 (Conv2D)        (None, 28, 28, 512)       2359808   \n",
      "_________________________________________________________________\n",
      "block4_pool (MaxPooling2D)   (None, 14, 14, 512)       0         \n",
      "_________________________________________________________________\n",
      "block5_conv1 (Conv2D)        (None, 14, 14, 512)       2359808   \n",
      "_________________________________________________________________\n",
      "block5_conv2 (Conv2D)        (None, 14, 14, 512)       2359808   \n",
      "_________________________________________________________________\n",
      "block5_conv3 (Conv2D)        (None, 14, 14, 512)       2359808   \n",
      "_________________________________________________________________\n",
      "block5_pool (MaxPooling2D)   (None, 7, 7, 512)         0         \n",
      "_________________________________________________________________\n",
      "flatten (Flatten)            (None, 25088)             0         \n",
      "_________________________________________________________________\n",
      "fc1 (Dense)                  (None, 4096)              102764544 \n",
      "_________________________________________________________________\n",
      "fc2 (Dense)                  (None, 4096)              16781312  \n",
      "_________________________________________________________________\n",
      "predictions (Dense)          (None, 1000)              4097000   \n",
      "=================================================================\n",
      "Total params: 138,357,544\n",
      "Trainable params: 138,357,544\n",
      "Non-trainable params: 0\n",
      "_________________________________________________________________\n"
     ]
    }
   ],
   "source": [
    "base_model.summary()"
   ]
  },
  {
   "cell_type": "code",
   "execution_count": 3,
   "metadata": {},
   "outputs": [],
   "source": [
    "#img_path = 'elephant.jpg'\n",
    "img_path = 'D:\\\\dataset\\\\demo\\\\256_ObjectCategories\\\\003.backpack\\\\003_0001.jpg'\n",
    "img = image.load_img(img_path, target_size=(224, 224))\n",
    "x = image.img_to_array(img)\n",
    "x = np.expand_dims(x, axis=0)\n",
    "x = preprocess_input(x)\n",
    "\n",
    "features = model.predict(x)"
   ]
  },
  {
   "cell_type": "code",
   "execution_count": 4,
   "metadata": {},
   "outputs": [
    {
     "name": "stdout",
     "output_type": "stream",
     "text": [
      "[[4.8124847 7.780907  0.        ... 0.        0.        0.       ]]\n",
      "(1, 4096)\n"
     ]
    }
   ],
   "source": [
    "print(features)\n",
    "print(features.shape)"
   ]
  },
  {
   "cell_type": "code",
   "execution_count": 5,
   "metadata": {},
   "outputs": [
    {
     "name": "stdout",
     "output_type": "stream",
     "text": [
      "[[0.         0.         2.1568074  ... 0.08898768 0.32180887 0.35184997]]\n",
      "(1, 4096)\n"
     ]
    }
   ],
   "source": [
    "model2 = Model(inputs=base_model.input, outputs=base_model.get_layer('fc2').output)\n",
    "\n",
    "img_path = 'D:\\\\dataset\\\\demo\\\\256_ObjectCategories\\\\003.backpack\\\\003_0001.jpg'\n",
    "img = image.load_img(img_path, target_size=(224, 224))\n",
    "x = image.img_to_array(img)\n",
    "x = np.expand_dims(x, axis=0)\n",
    "x = preprocess_input(x)\n",
    "\n",
    "features2 = model2.predict(x)\n",
    "\n",
    "print(features2)\n",
    "print(features2.shape)"
   ]
  },
  {
   "cell_type": "markdown",
   "metadata": {},
   "source": [
    "# 3. 画像特徴ベクトルの生成\n",
    "\n",
    "Caltech 256の30,000枚の画像データを､VGG16を用いてベクトル化します。"
   ]
  },
  {
   "cell_type": "code",
   "execution_count": 6,
   "metadata": {},
   "outputs": [
    {
     "name": "stdout",
     "output_type": "stream",
     "text": [
      "11\n"
     ]
    }
   ],
   "source": [
    "import os\n",
    " \n",
    "path = 'D:\\\\dataset\\\\demo\\\\256_ObjectCategories'\n",
    "count = 0\n",
    "\n",
    "feature_list = []\n",
    "image_list = []\n",
    "for d in os.listdir(path):\n",
    "    if count > 10:\n",
    "        break\n",
    "        \n",
    "    if os.path.isdir(os.path.join(path, d)):\n",
    "        subpath = os.path.join(path, d)\n",
    "        for imgf in os.listdir(subpath):\n",
    "            if os.path.isfile(os.path.join(subpath, imgf)):\n",
    "                img_path = os.path.join(subpath, imgf)\n",
    "                img = image.load_img(img_path, target_size=(224, 224))\n",
    "                x = image.img_to_array(img)\n",
    "                x = np.expand_dims(x, axis=0)\n",
    "                x = preprocess_input(x)\n",
    "\n",
    "                features = model2.predict(x)\n",
    "                # print(imgf, features)\n",
    "                image_list.append(img)\n",
    "                feature_list.append(features[0])\n",
    "                \n",
    "    count = count + 1\n",
    "    \n",
    "\n",
    "feature_list = np.array(feature_list)    \n",
    "#print(feature_list)\n",
    "print (count)"
   ]
  },
  {
   "cell_type": "markdown",
   "metadata": {},
   "source": [
    "# 4. 画像検索処理をするクラスの定義\n",
    "\n",
    "上位n件を検索するクラスを定義します。\n",
    "距離計算には、マンハッタン距離を用います。"
   ]
  },
  {
   "cell_type": "code",
   "execution_count": 8,
   "metadata": {},
   "outputs": [],
   "source": [
    "class CBIR(object):\n",
    "    def __init__(self):\n",
    "        pass\n",
    "\n",
    "    def train(self, X):\n",
    "        \"\"\" X is N x D where each row is an example. Y is 1-dimension of size N \"\"\"\n",
    "        # the nearest neighbor classifier simply remembers all the training data\n",
    "        self.X = X\n",
    "    \n",
    "    def search(self, q, k):\n",
    "        distances = np.sum(np.abs(self.X - q), axis = 1)\n",
    "        \n",
    "        sorted_indexes = np.argsort(distances)\n",
    "        #max_k = sorted_indexes[-(k+1):-1]\n",
    "        min_k = sorted_indexes[:k+1]\n",
    "        \n",
    "        #return max_k\n",
    "        return min_k"
   ]
  },
  {
   "cell_type": "markdown",
   "metadata": {},
   "source": [
    "# 5. Deep Learningよる画像検索\n",
    "\n",
    "画像検索結果の例を示します。\n",
    "\n",
    "1. 問い合わせを q_idx で指定します。\n",
    "2. 上位6件の結果を表示します。左から順に関連のある画像が表示されます。\n",
    "（一番左は自分自身の画像になっています。）"
   ]
  },
  {
   "cell_type": "code",
   "execution_count": 12,
   "metadata": {},
   "outputs": [],
   "source": [
    "q_idx = 350\n",
    "q = feature_list[q_idx,:]"
   ]
  },
  {
   "cell_type": "code",
   "execution_count": 13,
   "metadata": {},
   "outputs": [],
   "source": [
    "cbir = CBIR() # create a Nearest Neighbor classifier class\n",
    "cbir.train(feature_list) # train the classifier on the training images and labels\n",
    "result = cbir.search(q, 6) # predict labels on the test images"
   ]
  },
  {
   "cell_type": "code",
   "execution_count": 15,
   "metadata": {},
   "outputs": [
    {
     "name": "stdout",
     "output_type": "stream",
     "text": [
      "[350 455 428 463 430 445 431]\n"
     ]
    },
    {
     "data": {
      "text/plain": [
       "<matplotlib.image.AxesImage at 0x25016f47c48>"
      ]
     },
     "execution_count": 15,
     "metadata": {},
     "output_type": "execute_result"
    },
    {
     "data": {
      "image/png": "[encoded data removed]",
      "text/plain": [
       "<Figure size 720x720 with 1 Axes>"
      ]
     },
     "metadata": {
      "needs_background": "light"
     },
     "output_type": "display_data"
    }
   ],
   "source": [
    "import matplotlib.pyplot as plt\n",
    "\n",
    "print(result)\n",
    "\n",
    "plt.figure(figsize=(10,10))\n",
    "cifar_img=plt.subplot(1,6,1)\n",
    "plt.imshow(image_list[q_idx])"
   ]
  },
  {
   "cell_type": "code",
   "execution_count": 16,
   "metadata": {},
   "outputs": [
    {
     "data": {
      "text/plain": [
       "<matplotlib.image.AxesImage at 0x25018882088>"
      ]
     },
     "execution_count": 16,
     "metadata": {},
     "output_type": "execute_result"
    },
    {
     "data": {
      "image/png": "[encoded data removed]",
      "text/plain": [
       "<Figure size 720x720 with 6 Axes>"
      ]
     },
     "metadata": {
      "needs_background": "light"
     },
     "output_type": "display_data"
    }
   ],
   "source": [
    "plt.figure(figsize=(10,10))\n",
    "\n",
    "cifar_img=plt.subplot(5,6,1)\n",
    "plt.imshow(image_list[result[0]])\n",
    "\n",
    "cifar_img=plt.subplot(5,6,2)\n",
    "plt.imshow(image_list[result[1]])\n",
    "\n",
    "cifar_img=plt.subplot(5,6,3)\n",
    "plt.imshow(image_list[result[2]])\n",
    "\n",
    "cifar_img=plt.subplot(5,6,4)\n",
    "plt.imshow(image_list[result[3]])\n",
    "\n",
    "cifar_img=plt.subplot(5,6,5)\n",
    "plt.imshow(image_list[result[4]])\n",
    "\n",
    "cifar_img=plt.subplot(5,6,6)\n",
    "plt.imshow(image_list[result[5]])"
   ]
  },
  {
   "cell_type": "code",
   "execution_count": null,
   "metadata": {},
   "outputs": [],
   "source": []
  }
 ],
 "metadata": {
  "kernelspec": {
   "display_name": "Python 3",
   "language": "python",
   "name": "python3"
  },
  "language_info": {
   "codemirror_mode": {
    "name": "ipython",
    "version": 3
   },
   "file_extension": ".py",
   "mimetype": "text/x-python",
   "name": "python",
   "nbconvert_exporter": "python",
   "pygments_lexer": "ipython3",
   "version": "3.7.7"
  }
 },
 "nbformat": 4,
 "nbformat_minor": 2
}
